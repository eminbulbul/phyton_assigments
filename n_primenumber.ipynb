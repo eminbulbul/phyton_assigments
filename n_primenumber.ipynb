{
 "cells": [
  {
   "cell_type": "code",
   "execution_count": null,
   "metadata": {},
   "outputs": [],
   "source": [
    "number = int(input(\"Give number : \"))\n",
    "list_a = set([])\n",
    "for i in range(1,number + 1):\n",
    "    for k in range(1,number + 1):\n",
    "        if i%k == 0 and  i !=1 and  k !=1:\n",
    "            list_a.add(k)\n",
    "            break\n",
    "list_a = list(list_a)            \n",
    "print(sorted(list_a))"
   ]
  }
 ],
 "metadata": {
  "interpreter": {
   "hash": "f2506bdde9be3d546f26815ec9e4172adf02a4c95ffa61bdabe97a2bed04da5a"
  },
  "kernelspec": {
   "display_name": "Python 3.9.6 64-bit",
   "language": "python",
   "name": "python3"
  },
  "language_info": {
   "codemirror_mode": {
    "name": "ipython",
    "version": 3
   },
   "file_extension": ".py",
   "mimetype": "text/x-python",
   "name": "python",
   "nbconvert_exporter": "python",
   "pygments_lexer": "ipython3",
   "version": "3.9.6"
  },
  "orig_nbformat": 4
 },
 "nbformat": 4,
 "nbformat_minor": 2
}
