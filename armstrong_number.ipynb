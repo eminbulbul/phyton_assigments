{
 "cells": [
  {
   "cell_type": "code",
   "execution_count": 17,
   "metadata": {},
   "outputs": [
    {
     "name": "stdout",
     "output_type": "stream",
     "text": [
      "372 is not Armstrong Number \n"
     ]
    }
   ],
   "source": [
    "number_a = input(\"sayı gir\")\n",
    "int_a = []\n",
    "sum_list_a = []\n",
    "if (\".\" in number_a) or (\"-\" in number_a):\n",
    "    print(\"Typed wrong value\")\n",
    "    \n",
    "else:\n",
    "    c = int(number_a)\n",
    "    number_a = list(number_a)\n",
    "    n = len(number_a)\n",
    "    if 0 < c:\n",
    "        for i in number_a:\n",
    "            int_a.appensum_list_a(int(i))\n",
    "        for ii in int_a:\n",
    "            sum_list_a.appensum_list_a(ii ** n)\n",
    "        if sum(sum_list_a) == c:\n",
    "            print(c, \"is Armstrong Number \")\n",
    "        else:\n",
    "            print(c, \"is not Armstrong Number \")\n",
    "    else:\n",
    "        print(\"Please enter positive number\")\n",
    "# https://github.com/eminbulbul/phyton_assigments"
   ]
  }
 ],
 "metadata": {
  "interpreter": {
   "hash": "576af6d508676c1dd15323a8731f45fd3dfc147a50f39af5c66777064636496d"
  },
  "kernelspec": {
   "display_name": "Python 3.10.0 64-bit",
   "language": "python",
   "name": "python3"
  },
  "language_info": {
   "codemirror_mode": {
    "name": "ipython",
    "version": 3
   },
   "file_extension": ".py",
   "mimetype": "text/x-python",
   "name": "python",
   "nbconvert_exporter": "python",
   "pygments_lexer": "ipython3",
   "version": "3.10.0"
  },
  "orig_nbformat": 4
 },
 "nbformat": 4,
 "nbformat_minor": 2
}
