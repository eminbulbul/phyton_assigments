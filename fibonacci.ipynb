{
 "cells": [
  {
   "cell_type": "code",
   "execution_count": 2,
   "metadata": {},
   "outputs": [
    {
     "name": "stdout",
     "output_type": "stream",
     "text": [
      "[1, 1, 2, 3, 5, 8, 13, 21, 34, 55]\n"
     ]
    }
   ],
   "source": [
    "fib_list = [1, 1]\n",
    "for i in range(56):\n",
    "    if len(fib_list) >= 2:\n",
    "        c = fib_list[-1] + fib_list[-2]\n",
    "        fib_list.append(c)\n",
    "        if c >= 55:\n",
    "           break\n",
    "\n",
    "print(fib_list)\n",
    "\n",
    "# https://github.com/eminbulbul/phyton_assigments.git\n",
    "\n"
   ]
  }
 ],
 "metadata": {
  "interpreter": {
   "hash": "f2506bdde9be3d546f26815ec9e4172adf02a4c95ffa61bdabe97a2bed04da5a"
  },
  "kernelspec": {
   "display_name": "Python 3.9.6 64-bit",
   "language": "python",
   "name": "python3"
  },
  "language_info": {
   "codemirror_mode": {
    "name": "ipython",
    "version": 3
   },
   "file_extension": ".py",
   "mimetype": "text/x-python",
   "name": "python",
   "nbconvert_exporter": "python",
   "pygments_lexer": "ipython3",
   "version": "3.9.6"
  },
  "orig_nbformat": 4
 },
 "nbformat": 4,
 "nbformat_minor": 2
}
